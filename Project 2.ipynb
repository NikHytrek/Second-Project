{
 "cells": [
  {
   "cell_type": "code",
   "execution_count": 1,
   "metadata": {},
   "outputs": [
    {
     "name": "stderr",
     "output_type": "stream",
     "text": [
      "\n",
      "Attaching package: 'dplyr'\n",
      "\n",
      "The following objects are masked from 'package:stats':\n",
      "\n",
      "    filter, lag\n",
      "\n",
      "The following objects are masked from 'package:base':\n",
      "\n",
      "    intersect, setdiff, setequal, union\n",
      "\n",
      "Warning message:\n",
      "\"package 'ggplot2' was built under R version 3.4.4\"\n",
      "Attaching package: 'ggplot2'\n",
      "\n",
      "The following object is masked from 'package:dplyr':\n",
      "\n",
      "    vars\n",
      "\n",
      "Warning message:\n",
      "\"package 'reshape2' was built under R version 3.4.4\""
     ]
    }
   ],
   "source": [
    "library(dplyr)\n",
    "library(ggplot2)\n",
    "library(reshape2)\n",
    "library(stringr)"
   ]
  },
  {
   "cell_type": "code",
   "execution_count": 2,
   "metadata": {},
   "outputs": [],
   "source": [
    "range = read.csv(\"Systems 92-12.csv\")"
   ]
  },
  {
   "cell_type": "code",
   "execution_count": 3,
   "metadata": {},
   "outputs": [
    {
     "data": {
      "text/html": [
       "<table>\n",
       "<thead><tr><th scope=col>LIBID</th><th scope=col>LIBNAME</th><th scope=col>PHONE</th><th scope=col>POPU</th><th scope=col>CENTLIB</th><th scope=col>BRANLIB</th><th scope=col>BKMOB</th><th scope=col>MASTER</th><th scope=col>LIBRARIA</th><th scope=col>OTHPAID</th><th scope=col>...</th><th scope=col>VIDEO_PH</th><th scope=col>VIDEO_DL</th><th scope=col>MAT_TYPE</th><th scope=col>CBSA</th><th scope=col>MICROF</th><th scope=col>DB_LO_OT</th><th scope=col>GAL</th><th scope=col>GALMS</th><th scope=col>POSTMS</th><th scope=col>Location</th></tr></thead>\n",
       "<tbody>\n",
       "\t<tr><td>40                           </td><td>ANCHOR POINT PUBLIC LIBRARY  </td><td>9072357345                   </td><td>  1358                       </td><td>1                            </td><td>0                            </td><td>0                            </td><td> 0.00                        </td><td> 0.25                        </td><td> 0.00                        </td><td>...                          </td><td>NA                           </td><td>NA                           </td><td>NA                           </td><td>NA                           </td><td>                             </td><td>NA                           </td><td>                             </td><td>                             </td><td>                             </td><td>                             </td></tr>\n",
       "\t<tr><td>50                           </td><td>ANCHORAGE MUNICIPAL LIBRARIES</td><td>9072612975                   </td><td>272262                       </td><td>1                            </td><td>4                            </td><td>0                            </td><td>34.62                        </td><td>34.62                        </td><td>73.58                        </td><td>...                          </td><td>NA                           </td><td>NA                           </td><td>NA                           </td><td>NA                           </td><td>                             </td><td>NA                           </td><td>                             </td><td>                             </td><td>                             </td><td>                             </td></tr>\n",
       "\t<tr><td>60                           </td><td>ANDERSON VILLAGE LIBRARY     </td><td>9075822628                   </td><td>   649                       </td><td>1                            </td><td>0                            </td><td>0                            </td><td> 0.00                        </td><td> 0.25                        </td><td> 0.00                        </td><td>...                          </td><td>NA                           </td><td>NA                           </td><td>NA                           </td><td>NA                           </td><td>                             </td><td>NA                           </td><td>                             </td><td>                             </td><td>                             </td><td>                             </td></tr>\n",
       "\t<tr><td>70                           </td><td>ANIAK PUBLIC LIBRARY         </td><td>9076754435                   </td><td>   529                       </td><td>1                            </td><td>0                            </td><td>0                            </td><td> 0.00                        </td><td> 0.75                        </td><td> 0.00                        </td><td>...                          </td><td>NA                           </td><td>NA                           </td><td>NA                           </td><td>NA                           </td><td>                             </td><td>NA                           </td><td>                             </td><td>                             </td><td>                             </td><td>                             </td></tr>\n",
       "\t<tr><td>90                           </td><td>KUSKOKWIM CONSORTIUM LIBRARY </td><td>9075434516                   </td><td>  4868                       </td><td>1                            </td><td>0                            </td><td>0                            </td><td> 0.75                        </td><td> 0.75                        </td><td> 2.00                        </td><td>...                          </td><td>NA                           </td><td>NA                           </td><td>NA                           </td><td>NA                           </td><td>                             </td><td>NA                           </td><td>                             </td><td>                             </td><td>                             </td><td>                             </td></tr>\n",
       "\t<tr><td>100                          </td><td>BIG LAKE LIBRARY             </td><td>9078926475                   </td><td>  3818                       </td><td>1                            </td><td>0                            </td><td>0                            </td><td> 0.00                        </td><td> 1.00                        </td><td> 0.25                        </td><td>...                          </td><td>NA                           </td><td>NA                           </td><td>NA                           </td><td>NA                           </td><td>                             </td><td>NA                           </td><td>                             </td><td>                             </td><td>                             </td><td>                             </td></tr>\n",
       "</tbody>\n",
       "</table>\n"
      ],
      "text/latex": [
       "\\begin{tabular}{r|llllllllllllllllllllllllllllllllllllllllllllllllllllllllllllllllllllllllllllllllllllllllllllllllllllllllllllll}\n",
       " LIBID & LIBNAME & PHONE & POPU & CENTLIB & BRANLIB & BKMOB & MASTER & LIBRARIA & OTHPAID & ... & VIDEO\\_PH & VIDEO\\_DL & MAT\\_TYPE & CBSA & MICROF & DB\\_LO\\_OT & GAL & GALMS & POSTMS & Location\\\\\n",
       "\\hline\n",
       "\t 40                            & ANCHOR POINT PUBLIC LIBRARY   & 9072357345                    &   1358                        & 1                             & 0                             & 0                             &  0.00                         &  0.25                         &  0.00                         & ...                           & NA                            & NA                            & NA                            & NA                            &                               & NA                            &                               &                               &                               &                              \\\\\n",
       "\t 50                            & ANCHORAGE MUNICIPAL LIBRARIES & 9072612975                    & 272262                        & 1                             & 4                             & 0                             & 34.62                         & 34.62                         & 73.58                         & ...                           & NA                            & NA                            & NA                            & NA                            &                               & NA                            &                               &                               &                               &                              \\\\\n",
       "\t 60                            & ANDERSON VILLAGE LIBRARY      & 9075822628                    &    649                        & 1                             & 0                             & 0                             &  0.00                         &  0.25                         &  0.00                         & ...                           & NA                            & NA                            & NA                            & NA                            &                               & NA                            &                               &                               &                               &                              \\\\\n",
       "\t 70                            & ANIAK PUBLIC LIBRARY          & 9076754435                    &    529                        & 1                             & 0                             & 0                             &  0.00                         &  0.75                         &  0.00                         & ...                           & NA                            & NA                            & NA                            & NA                            &                               & NA                            &                               &                               &                               &                              \\\\\n",
       "\t 90                            & KUSKOKWIM CONSORTIUM LIBRARY  & 9075434516                    &   4868                        & 1                             & 0                             & 0                             &  0.75                         &  0.75                         &  2.00                         & ...                           & NA                            & NA                            & NA                            & NA                            &                               & NA                            &                               &                               &                               &                              \\\\\n",
       "\t 100                           & BIG LAKE LIBRARY              & 9078926475                    &   3818                        & 1                             & 0                             & 0                             &  0.00                         &  1.00                         &  0.25                         & ...                           & NA                            & NA                            & NA                            & NA                            &                               & NA                            &                               &                               &                               &                              \\\\\n",
       "\\end{tabular}\n"
      ],
      "text/markdown": [
       "\n",
       "LIBID | LIBNAME | PHONE | POPU | CENTLIB | BRANLIB | BKMOB | MASTER | LIBRARIA | OTHPAID | ... | VIDEO_PH | VIDEO_DL | MAT_TYPE | CBSA | MICROF | DB_LO_OT | GAL | GALMS | POSTMS | Location | \n",
       "|---|---|---|---|---|---|\n",
       "| 40                            | ANCHOR POINT PUBLIC LIBRARY   | 9072357345                    |   1358                        | 1                             | 0                             | 0                             |  0.00                         |  0.25                         |  0.00                         | ...                           | NA                            | NA                            | NA                            | NA                            |                               | NA                            |                               |                               |                               |                               | \n",
       "| 50                            | ANCHORAGE MUNICIPAL LIBRARIES | 9072612975                    | 272262                        | 1                             | 4                             | 0                             | 34.62                         | 34.62                         | 73.58                         | ...                           | NA                            | NA                            | NA                            | NA                            |                               | NA                            |                               |                               |                               |                               | \n",
       "| 60                            | ANDERSON VILLAGE LIBRARY      | 9075822628                    |    649                        | 1                             | 0                             | 0                             |  0.00                         |  0.25                         |  0.00                         | ...                           | NA                            | NA                            | NA                            | NA                            |                               | NA                            |                               |                               |                               |                               | \n",
       "| 70                            | ANIAK PUBLIC LIBRARY          | 9076754435                    |    529                        | 1                             | 0                             | 0                             |  0.00                         |  0.75                         |  0.00                         | ...                           | NA                            | NA                            | NA                            | NA                            |                               | NA                            |                               |                               |                               |                               | \n",
       "| 90                            | KUSKOKWIM CONSORTIUM LIBRARY  | 9075434516                    |   4868                        | 1                             | 0                             | 0                             |  0.75                         |  0.75                         |  2.00                         | ...                           | NA                            | NA                            | NA                            | NA                            |                               | NA                            |                               |                               |                               |                               | \n",
       "| 100                           | BIG LAKE LIBRARY              | 9078926475                    |   3818                        | 1                             | 0                             | 0                             |  0.00                         |  1.00                         |  0.25                         | ...                           | NA                            | NA                            | NA                            | NA                            |                               | NA                            |                               |                               |                               |                               | \n",
       "\n",
       "\n"
      ],
      "text/plain": [
       "  LIBID LIBNAME                       PHONE      POPU   CENTLIB BRANLIB BKMOB\n",
       "1 40    ANCHOR POINT PUBLIC LIBRARY   9072357345   1358 1       0       0    \n",
       "2 50    ANCHORAGE MUNICIPAL LIBRARIES 9072612975 272262 1       4       0    \n",
       "3 60    ANDERSON VILLAGE LIBRARY      9075822628    649 1       0       0    \n",
       "4 70    ANIAK PUBLIC LIBRARY          9076754435    529 1       0       0    \n",
       "5 90    KUSKOKWIM CONSORTIUM LIBRARY  9075434516   4868 1       0       0    \n",
       "6 100   BIG LAKE LIBRARY              9078926475   3818 1       0       0    \n",
       "  MASTER LIBRARIA OTHPAID ... VIDEO_PH VIDEO_DL MAT_TYPE CBSA MICROF DB_LO_OT\n",
       "1  0.00   0.25     0.00   ... NA       NA       NA       NA          NA      \n",
       "2 34.62  34.62    73.58   ... NA       NA       NA       NA          NA      \n",
       "3  0.00   0.25     0.00   ... NA       NA       NA       NA          NA      \n",
       "4  0.00   0.75     0.00   ... NA       NA       NA       NA          NA      \n",
       "5  0.75   0.75     2.00   ... NA       NA       NA       NA          NA      \n",
       "6  0.00   1.00     0.25   ... NA       NA       NA       NA          NA      \n",
       "  GAL GALMS POSTMS Location\n",
       "1                          \n",
       "2                          \n",
       "3                          \n",
       "4                          \n",
       "5                          \n",
       "6                          "
      ]
     },
     "metadata": {},
     "output_type": "display_data"
    },
    {
     "data": {
      "text/html": [
       "<table>\n",
       "<thead><tr><th></th><th scope=col>LIBID</th><th scope=col>LIBNAME</th><th scope=col>PHONE</th><th scope=col>POPU</th><th scope=col>CENTLIB</th><th scope=col>BRANLIB</th><th scope=col>BKMOB</th><th scope=col>MASTER</th><th scope=col>LIBRARIA</th><th scope=col>OTHPAID</th><th scope=col>...</th><th scope=col>VIDEO_PH</th><th scope=col>VIDEO_DL</th><th scope=col>MAT_TYPE</th><th scope=col>CBSA</th><th scope=col>MICROF</th><th scope=col>DB_LO_OT</th><th scope=col>GAL</th><th scope=col>GALMS</th><th scope=col>POSTMS</th><th scope=col>Location</th></tr></thead>\n",
       "<tbody>\n",
       "\t<tr><th scope=row>191614</th><td>26                                                                           </td><td>NIOBRARA COUNTY LIBRARY                                                      </td><td>3073343490                                                                   </td><td>NA                                                                           </td><td>1                                                                            </td><td>0                                                                            </td><td>0                                                                            </td><td>0.00                                                                         </td><td>4.25                                                                         </td><td> 0.00                                                                        </td><td>...                                                                          </td><td>5608                                                                         </td><td>0                                                                            </td><td>NA                                                                           </td><td>    0                                                                        </td><td>0                                                                            </td><td> 1                                                                           </td><td>house                                                                        </td><td>STD                                                                          </td><td>NND                                                                          </td><td>425 S MAIN ST\n",
       "LUSK, WY 82225\n",
       "(42.760902000000002, -104.45207499999999)     </td></tr>\n",
       "\t<tr><th scope=row>191615</th><td>29                                                                           </td><td>SUBLETTE COUNTY LIBRARY                                                      </td><td>3073674114                                                                   </td><td>NA                                                                           </td><td>1                                                                            </td><td>1                                                                            </td><td>0                                                                            </td><td>2.00                                                                         </td><td>2.00                                                                         </td><td>13.00                                                                        </td><td>...                                                                          </td><td>6094                                                                         </td><td>0                                                                            </td><td>NA                                                                           </td><td>    0                                                                        </td><td>0                                                                            </td><td> 1                                                                           </td><td>house                                                                        </td><td>ADV                                                                          </td><td>NND                                                                          </td><td>155 S TYLER ST\n",
       "PINEDALE, WY 82941\n",
       "(42.865096999999999, -109.86128100000001)</td></tr>\n",
       "\t<tr><th scope=row>191616</th><td>30                                                                           </td><td>TETON COUNTY LIBRARY                                                         </td><td>3077332164                                                                   </td><td>NA                                                                           </td><td>1                                                                            </td><td>1                                                                            </td><td>0                                                                            </td><td>3.85                                                                         </td><td>6.50                                                                         </td><td>30.15                                                                        </td><td>...                                                                          </td><td>7026                                                                         </td><td>0                                                                            </td><td>NA                                                                           </td><td>27220                                                                        </td><td>1                                                                            </td><td>15                                                                           </td><td>addresspoint                                                                 </td><td>STD                                                                          </td><td>NND                                                                          </td><td>125 VIRGINIAN LANE\n",
       "JACKSON, WY 83001\n",
       "(43.471780000000003, -110.779203)     </td></tr>\n",
       "\t<tr><th scope=row>191617</th><td>31                                                                           </td><td>UINTA COUNTY LIBRARIES                                                       </td><td>3077892770                                                                   </td><td>NA                                                                           </td><td>1                                                                            </td><td>2                                                                            </td><td>0                                                                            </td><td>3.00                                                                         </td><td>3.00                                                                         </td><td>10.00                                                                        </td><td>...                                                                          </td><td>9525                                                                         </td><td>0                                                                            </td><td>NA                                                                           </td><td>21740                                                                        </td><td>1                                                                            </td><td> 3                                                                           </td><td>addresspoint                                                                 </td><td>STD                                                                          </td><td>NND                                                                          </td><td>701 MAIN ST\n",
       "EVANSTON, WY 82930\n",
       "(41.265974999999997, -110.96340499999999)   </td></tr>\n",
       "\t<tr><th scope=row>191618</th><td>32                                                                           </td><td>WASHAKIE COUNTY LIBRARY                                                      </td><td>3073472231                                                                   </td><td>NA                                                                           </td><td>1                                                                            </td><td>1                                                                            </td><td>0                                                                            </td><td>0.00                                                                         </td><td>2.00                                                                         </td><td> 3.50                                                                        </td><td>...                                                                          </td><td>2573                                                                         </td><td>0                                                                            </td><td>NA                                                                           </td><td>    0                                                                        </td><td>0                                                                            </td><td> 0                                                                           </td><td>house                                                                        </td><td>STD                                                                          </td><td>NND                                                                          </td><td>1019 COBURN AVE\n",
       "WORLAND, WY 82401\n",
       "(44.015771000000001, -107.955461)        </td></tr>\n",
       "\t<tr><th scope=row>191619</th><td>33                                                                           </td><td>WESTON COUNTY LIBRARY SYSTEM                                                 </td><td>3077462206                                                                   </td><td>NA                                                                           </td><td>1                                                                            </td><td>1                                                                            </td><td>0                                                                            </td><td>0.00                                                                         </td><td>4.00                                                                         </td><td> 2.58                                                                        </td><td>...                                                                          </td><td>2973                                                                         </td><td>0                                                                            </td><td>NA                                                                           </td><td>    0                                                                        </td><td>0                                                                            </td><td> 5                                                                           </td><td>house                                                                        </td><td>STD                                                                          </td><td>NND                                                                          </td><td>23 WEST MAIN ST\n",
       "NEWCASTLE, WY 82701\n",
       "(43.855671000000001, -104.202302)      </td></tr>\n",
       "</tbody>\n",
       "</table>\n"
      ],
      "text/latex": [
       "\\begin{tabular}{r|llllllllllllllllllllllllllllllllllllllllllllllllllllllllllllllllllllllllllllllllllllllllllllllllllllllllllllll}\n",
       "  & LIBID & LIBNAME & PHONE & POPU & CENTLIB & BRANLIB & BKMOB & MASTER & LIBRARIA & OTHPAID & ... & VIDEO\\_PH & VIDEO\\_DL & MAT\\_TYPE & CBSA & MICROF & DB\\_LO\\_OT & GAL & GALMS & POSTMS & Location\\\\\n",
       "\\hline\n",
       "\t191614 & 26                                                                            & NIOBRARA COUNTY LIBRARY                                                       & 3073343490                                                                    & NA                                                                            & 1                                                                             & 0                                                                             & 0                                                                             & 0.00                                                                          & 4.25                                                                          &  0.00                                                                         & ...                                                                           & 5608                                                                          & 0                                                                             & NA                                                                            &     0                                                                         & 0                                                                             &  1                                                                            & house                                                                         & STD                                                                           & NND                                                                           & 425 S MAIN ST\n",
       "LUSK, WY 82225\n",
       "(42.760902000000002, -104.45207499999999)     \\\\\n",
       "\t191615 & 29                                                                            & SUBLETTE COUNTY LIBRARY                                                       & 3073674114                                                                    & NA                                                                            & 1                                                                             & 1                                                                             & 0                                                                             & 2.00                                                                          & 2.00                                                                          & 13.00                                                                         & ...                                                                           & 6094                                                                          & 0                                                                             & NA                                                                            &     0                                                                         & 0                                                                             &  1                                                                            & house                                                                         & ADV                                                                           & NND                                                                           & 155 S TYLER ST\n",
       "PINEDALE, WY 82941\n",
       "(42.865096999999999, -109.86128100000001)\\\\\n",
       "\t191616 & 30                                                                            & TETON COUNTY LIBRARY                                                          & 3077332164                                                                    & NA                                                                            & 1                                                                             & 1                                                                             & 0                                                                             & 3.85                                                                          & 6.50                                                                          & 30.15                                                                         & ...                                                                           & 7026                                                                          & 0                                                                             & NA                                                                            & 27220                                                                         & 1                                                                             & 15                                                                            & addresspoint                                                                  & STD                                                                           & NND                                                                           & 125 VIRGINIAN LANE\n",
       "JACKSON, WY 83001\n",
       "(43.471780000000003, -110.779203)     \\\\\n",
       "\t191617 & 31                                                                            & UINTA COUNTY LIBRARIES                                                        & 3077892770                                                                    & NA                                                                            & 1                                                                             & 2                                                                             & 0                                                                             & 3.00                                                                          & 3.00                                                                          & 10.00                                                                         & ...                                                                           & 9525                                                                          & 0                                                                             & NA                                                                            & 21740                                                                         & 1                                                                             &  3                                                                            & addresspoint                                                                  & STD                                                                           & NND                                                                           & 701 MAIN ST\n",
       "EVANSTON, WY 82930\n",
       "(41.265974999999997, -110.96340499999999)   \\\\\n",
       "\t191618 & 32                                                                            & WASHAKIE COUNTY LIBRARY                                                       & 3073472231                                                                    & NA                                                                            & 1                                                                             & 1                                                                             & 0                                                                             & 0.00                                                                          & 2.00                                                                          &  3.50                                                                         & ...                                                                           & 2573                                                                          & 0                                                                             & NA                                                                            &     0                                                                         & 0                                                                             &  0                                                                            & house                                                                         & STD                                                                           & NND                                                                           & 1019 COBURN AVE\n",
       "WORLAND, WY 82401\n",
       "(44.015771000000001, -107.955461)        \\\\\n",
       "\t191619 & 33                                                                            & WESTON COUNTY LIBRARY SYSTEM                                                  & 3077462206                                                                    & NA                                                                            & 1                                                                             & 1                                                                             & 0                                                                             & 0.00                                                                          & 4.00                                                                          &  2.58                                                                         & ...                                                                           & 2973                                                                          & 0                                                                             & NA                                                                            &     0                                                                         & 0                                                                             &  5                                                                            & house                                                                         & STD                                                                           & NND                                                                           & 23 WEST MAIN ST\n",
       "NEWCASTLE, WY 82701\n",
       "(43.855671000000001, -104.202302)      \\\\\n",
       "\\end{tabular}\n"
      ],
      "text/markdown": [
       "\n",
       "| <!--/--> | LIBID | LIBNAME | PHONE | POPU | CENTLIB | BRANLIB | BKMOB | MASTER | LIBRARIA | OTHPAID | ... | VIDEO_PH | VIDEO_DL | MAT_TYPE | CBSA | MICROF | DB_LO_OT | GAL | GALMS | POSTMS | Location | \n",
       "|---|---|---|---|---|---|\n",
       "| 191614 | 26                                                                            | NIOBRARA COUNTY LIBRARY                                                       | 3073343490                                                                    | NA                                                                            | 1                                                                             | 0                                                                             | 0                                                                             | 0.00                                                                          | 4.25                                                                          |  0.00                                                                         | ...                                                                           | 5608                                                                          | 0                                                                             | NA                                                                            |     0                                                                         | 0                                                                             |  1                                                                            | house                                                                         | STD                                                                           | NND                                                                           | 425 S MAIN ST\n",
       "LUSK, WY 82225\n",
       "(42.760902000000002, -104.45207499999999)      | \n",
       "| 191615 | 29                                                                            | SUBLETTE COUNTY LIBRARY                                                       | 3073674114                                                                    | NA                                                                            | 1                                                                             | 1                                                                             | 0                                                                             | 2.00                                                                          | 2.00                                                                          | 13.00                                                                         | ...                                                                           | 6094                                                                          | 0                                                                             | NA                                                                            |     0                                                                         | 0                                                                             |  1                                                                            | house                                                                         | ADV                                                                           | NND                                                                           | 155 S TYLER ST\n",
       "PINEDALE, WY 82941\n",
       "(42.865096999999999, -109.86128100000001) | \n",
       "| 191616 | 30                                                                            | TETON COUNTY LIBRARY                                                          | 3077332164                                                                    | NA                                                                            | 1                                                                             | 1                                                                             | 0                                                                             | 3.85                                                                          | 6.50                                                                          | 30.15                                                                         | ...                                                                           | 7026                                                                          | 0                                                                             | NA                                                                            | 27220                                                                         | 1                                                                             | 15                                                                            | addresspoint                                                                  | STD                                                                           | NND                                                                           | 125 VIRGINIAN LANE\n",
       "JACKSON, WY 83001\n",
       "(43.471780000000003, -110.779203)      | \n",
       "| 191617 | 31                                                                            | UINTA COUNTY LIBRARIES                                                        | 3077892770                                                                    | NA                                                                            | 1                                                                             | 2                                                                             | 0                                                                             | 3.00                                                                          | 3.00                                                                          | 10.00                                                                         | ...                                                                           | 9525                                                                          | 0                                                                             | NA                                                                            | 21740                                                                         | 1                                                                             |  3                                                                            | addresspoint                                                                  | STD                                                                           | NND                                                                           | 701 MAIN ST\n",
       "EVANSTON, WY 82930\n",
       "(41.265974999999997, -110.96340499999999)    | \n",
       "| 191618 | 32                                                                            | WASHAKIE COUNTY LIBRARY                                                       | 3073472231                                                                    | NA                                                                            | 1                                                                             | 1                                                                             | 0                                                                             | 0.00                                                                          | 2.00                                                                          |  3.50                                                                         | ...                                                                           | 2573                                                                          | 0                                                                             | NA                                                                            |     0                                                                         | 0                                                                             |  0                                                                            | house                                                                         | STD                                                                           | NND                                                                           | 1019 COBURN AVE\n",
       "WORLAND, WY 82401\n",
       "(44.015771000000001, -107.955461)         | \n",
       "| 191619 | 33                                                                            | WESTON COUNTY LIBRARY SYSTEM                                                  | 3077462206                                                                    | NA                                                                            | 1                                                                             | 1                                                                             | 0                                                                             | 0.00                                                                          | 4.00                                                                          |  2.58                                                                         | ...                                                                           | 2973                                                                          | 0                                                                             | NA                                                                            |     0                                                                         | 0                                                                             |  5                                                                            | house                                                                         | STD                                                                           | NND                                                                           | 23 WEST MAIN ST\n",
       "NEWCASTLE, WY 82701\n",
       "(43.855671000000001, -104.202302)       | \n",
       "\n",
       "\n"
      ],
      "text/plain": [
       "       LIBID LIBNAME                      PHONE      POPU CENTLIB BRANLIB BKMOB\n",
       "191614 26    NIOBRARA COUNTY LIBRARY      3073343490 NA   1       0       0    \n",
       "191615 29    SUBLETTE COUNTY LIBRARY      3073674114 NA   1       1       0    \n",
       "191616 30    TETON COUNTY LIBRARY         3077332164 NA   1       1       0    \n",
       "191617 31    UINTA COUNTY LIBRARIES       3077892770 NA   1       2       0    \n",
       "191618 32    WASHAKIE COUNTY LIBRARY      3073472231 NA   1       1       0    \n",
       "191619 33    WESTON COUNTY LIBRARY SYSTEM 3077462206 NA   1       1       0    \n",
       "       MASTER LIBRARIA OTHPAID ... VIDEO_PH VIDEO_DL MAT_TYPE CBSA  MICROF\n",
       "191614 0.00   4.25      0.00   ... 5608     0        NA           0 0     \n",
       "191615 2.00   2.00     13.00   ... 6094     0        NA           0 0     \n",
       "191616 3.85   6.50     30.15   ... 7026     0        NA       27220 1     \n",
       "191617 3.00   3.00     10.00   ... 9525     0        NA       21740 1     \n",
       "191618 0.00   2.00      3.50   ... 2573     0        NA           0 0     \n",
       "191619 0.00   4.00      2.58   ... 2973     0        NA           0 0     \n",
       "       DB_LO_OT GAL          GALMS POSTMS\n",
       "191614  1       house        STD   NND   \n",
       "191615  1       house        ADV   NND   \n",
       "191616 15       addresspoint STD   NND   \n",
       "191617  3       addresspoint STD   NND   \n",
       "191618  0       house        STD   NND   \n",
       "191619  5       house        STD   NND   \n",
       "       Location                                                                     \n",
       "191614 425 S MAIN ST\\nLUSK, WY 82225\\n(42.760902000000002, -104.45207499999999)     \n",
       "191615 155 S TYLER ST\\nPINEDALE, WY 82941\\n(42.865096999999999, -109.86128100000001)\n",
       "191616 125 VIRGINIAN LANE\\nJACKSON, WY 83001\\n(43.471780000000003, -110.779203)     \n",
       "191617 701 MAIN ST\\nEVANSTON, WY 82930\\n(41.265974999999997, -110.96340499999999)   \n",
       "191618 1019 COBURN AVE\\nWORLAND, WY 82401\\n(44.015771000000001, -107.955461)        \n",
       "191619 23 WEST MAIN ST\\nNEWCASTLE, WY 82701\\n(43.855671000000001, -104.202302)      "
      ]
     },
     "metadata": {},
     "output_type": "display_data"
    }
   ],
   "source": [
    "head(range)\n",
    "tail(range)"
   ]
  },
  {
   "cell_type": "code",
   "execution_count": 4,
   "metadata": {},
   "outputs": [
    {
     "data": {
      "text/html": [
       "<table>\n",
       "<thead><tr><th scope=col>TOTINCM</th><th scope=col>PLSYEAR</th><th scope=col>STABR</th></tr></thead>\n",
       "<tbody>\n",
       "\t<tr><td>   9203</td><td>1992   </td><td>AK     </td></tr>\n",
       "\t<tr><td>7374190</td><td>1992   </td><td>AK     </td></tr>\n",
       "\t<tr><td>  14887</td><td>1992   </td><td>AK     </td></tr>\n",
       "\t<tr><td>  17631</td><td>1992   </td><td>AK     </td></tr>\n",
       "\t<tr><td> 263549</td><td>1992   </td><td>AK     </td></tr>\n",
       "\t<tr><td>  94262</td><td>1992   </td><td>AK     </td></tr>\n",
       "</tbody>\n",
       "</table>\n"
      ],
      "text/latex": [
       "\\begin{tabular}{r|lll}\n",
       " TOTINCM & PLSYEAR & STABR\\\\\n",
       "\\hline\n",
       "\t    9203 & 1992    & AK     \\\\\n",
       "\t 7374190 & 1992    & AK     \\\\\n",
       "\t   14887 & 1992    & AK     \\\\\n",
       "\t   17631 & 1992    & AK     \\\\\n",
       "\t  263549 & 1992    & AK     \\\\\n",
       "\t   94262 & 1992    & AK     \\\\\n",
       "\\end{tabular}\n"
      ],
      "text/markdown": [
       "\n",
       "TOTINCM | PLSYEAR | STABR | \n",
       "|---|---|---|---|---|---|\n",
       "|    9203 | 1992    | AK      | \n",
       "| 7374190 | 1992    | AK      | \n",
       "|   14887 | 1992    | AK      | \n",
       "|   17631 | 1992    | AK      | \n",
       "|  263549 | 1992    | AK      | \n",
       "|   94262 | 1992    | AK      | \n",
       "\n",
       "\n"
      ],
      "text/plain": [
       "  TOTINCM PLSYEAR STABR\n",
       "1    9203 1992    AK   \n",
       "2 7374190 1992    AK   \n",
       "3   14887 1992    AK   \n",
       "4   17631 1992    AK   \n",
       "5  263549 1992    AK   \n",
       "6   94262 1992    AK   "
      ]
     },
     "metadata": {},
     "output_type": "display_data"
    }
   ],
   "source": [
    "smallrange = range %>%\n",
    "select(\"TOTINCM\", \"PLSYEAR\", \"STABR\")\n",
    "head(smallrange)"
   ]
  },
  {
   "cell_type": "code",
   "execution_count": null,
   "metadata": {},
   "outputs": [
    {
     "name": "stderr",
     "output_type": "stream",
     "text": [
      "Warning message:\n",
      "\"package 'bindrcpp' was built under R version 3.4.4\""
     ]
    }
   ],
   "source": [
    "smallrange %>%\n",
    "mutate (\n",
    "group_by(PLSYEAR),\n",
    "summarize(totals = sum(TOTINCM)))\n"
   ]
  },
  {
   "cell_type": "code",
   "execution_count": 8,
   "metadata": {},
   "outputs": [
    {
     "name": "stderr",
     "output_type": "stream",
     "text": [
      "Warning message:\n",
      "\"Removed 2 rows containing non-finite values (stat_count).\""
     ]
    },
    {
     "data": {},
     "metadata": {},
     "output_type": "display_data"
    },
    {
     "data": {
      "image/png": "[encoded data removed]",
      "text/plain": [
       "plot without title"
      ]
     },
     "metadata": {},
     "output_type": "display_data"
    }
   ],
   "source": [
    "ggplot(smallrange, aes(x=PLSYEAR)) + geom_bar() + scale_y_continuous(limits = c(0, 500000)) + \n",
    "scale_x_continuous(limits = c(1991, 2013))"
   ]
  },
  {
   "cell_type": "code",
   "execution_count": 8,
   "metadata": {},
   "outputs": [],
   "source": [
    "recent = read.csv(\"States 2015.csv\")"
   ]
  },
  {
   "cell_type": "code",
   "execution_count": 10,
   "metadata": {},
   "outputs": [
    {
     "data": {
      "text/html": [
       "<table>\n",
       "<thead><tr><th scope=col>STATE</th><th scope=col>SERVICE.AREA.POPULATION</th><th scope=col>UNDUPLICATED.POPULATION</th><th scope=col>STATE.POPULATION</th><th scope=col>CENTRAL.LIBRARIES</th><th scope=col>BRANCH.LIBRARIES</th><th scope=col>BOOKMOBILES</th><th scope=col>MLS.LIBRARIAN.STAFF</th><th scope=col>LIBRARIAN.STAFF</th><th scope=col>OTHER.STAFF</th><th scope=col>...</th><th scope=col>PROGRAM.AUDIENCE</th><th scope=col>KIDS.PROGRAM.AUDIENCE</th><th scope=col>YA.PROGRAM.AUDIENCE</th><th scope=col>COMPUTERS</th><th scope=col>COMPUTER.USES</th><th scope=col>WIFI.SESSIONS</th><th scope=col>START.DATE</th><th scope=col>END.DATE</th><th scope=col>YEAR</th><th scope=col>BEA.REGION</th></tr></thead>\n",
       "<tbody>\n",
       "\t<tr><td>AK      </td><td>  654479</td><td>  647583</td><td>  737625</td><td> 86     </td><td> 16     </td><td> 1      </td><td>  58.86 </td><td> 118.31 </td><td> 193.09 </td><td>...     </td><td> 254172 </td><td> 177102 </td><td> 21401  </td><td> 1069   </td><td>  749206</td><td>  730747</td><td>14-Jan  </td><td>15-Jun  </td><td>2016    </td><td>8       </td></tr>\n",
       "\t<tr><td>AL      </td><td> 4833722</td><td> 4833722</td><td> 4833722</td><td>222     </td><td> 74     </td><td>16      </td><td> 328.08 </td><td> 730.76 </td><td> 988.72 </td><td>...     </td><td>1121601 </td><td> 723637 </td><td> 93665  </td><td> 5556   </td><td> 4277108</td><td> 3703127</td><td>14-Oct  </td><td>15-Sep  </td><td>2016    </td><td>5       </td></tr>\n",
       "\t<tr><td>AR      </td><td> 2833849</td><td> 2643928</td><td> 2915918</td><td> 54     </td><td>179     </td><td> 2      </td><td> 145.11 </td><td> 282.61 </td><td> 723.28 </td><td>...     </td><td>1050483 </td><td> 738691 </td><td>103945  </td><td> 2718   </td><td> 1858903</td><td> 1150709</td><td>15-Jan  </td><td>15-Dec  </td><td>2016    </td><td>5       </td></tr>\n",
       "\t<tr><td>AS      </td><td>   60863</td><td>   60324</td><td>   60863</td><td>  1     </td><td>  1     </td><td> 0      </td><td>   1.00 </td><td>   7.00 </td><td>   3.00 </td><td>...     </td><td>   6846 </td><td>   6684 </td><td>    12  </td><td>   20   </td><td>    7118</td><td>    2420</td><td>14-Oct  </td><td>15-Sep  </td><td>2016    </td><td>9       </td></tr>\n",
       "\t<tr><td>AZ      </td><td>10652448</td><td> 6758251</td><td> 6758251</td><td> 85     </td><td>136     </td><td>11      </td><td> 473.98 </td><td> 560.61 </td><td>1492.25 </td><td>...     </td><td>1526227 </td><td>1064657 </td><td>100069  </td><td> 7630   </td><td> 7150328</td><td> 5340816</td><td>14-Jul  </td><td>15-Jun  </td><td>2016    </td><td>6       </td></tr>\n",
       "\t<tr><td>CA      </td><td>38697702</td><td>38697702</td><td>38714725</td><td>166     </td><td>949     </td><td>51      </td><td>3080.26 </td><td>3268.83 </td><td>8510.39 </td><td>...     </td><td>9428715 </td><td>7051832 </td><td>553731  </td><td>22251   </td><td>32275277</td><td>15496024</td><td>14-Jul  </td><td>15-Jun  </td><td>2016    </td><td>8       </td></tr>\n",
       "</tbody>\n",
       "</table>\n"
      ],
      "text/latex": [
       "\\begin{tabular}{r|lllllllllllllllllllllllllllllllllllllllllllllllllllllllllllllll}\n",
       " STATE & SERVICE.AREA.POPULATION & UNDUPLICATED.POPULATION & STATE.POPULATION & CENTRAL.LIBRARIES & BRANCH.LIBRARIES & BOOKMOBILES & MLS.LIBRARIAN.STAFF & LIBRARIAN.STAFF & OTHER.STAFF & ... & PROGRAM.AUDIENCE & KIDS.PROGRAM.AUDIENCE & YA.PROGRAM.AUDIENCE & COMPUTERS & COMPUTER.USES & WIFI.SESSIONS & START.DATE & END.DATE & YEAR & BEA.REGION\\\\\n",
       "\\hline\n",
       "\t AK       &   654479 &   647583 &   737625 &  86      &  16      &  1       &   58.86  &  118.31  &  193.09  & ...      &  254172  &  177102  &  21401   &  1069    &   749206 &   730747 & 14-Jan   & 15-Jun   & 2016     & 8       \\\\\n",
       "\t AL       &  4833722 &  4833722 &  4833722 & 222      &  74      & 16       &  328.08  &  730.76  &  988.72  & ...      & 1121601  &  723637  &  93665   &  5556    &  4277108 &  3703127 & 14-Oct   & 15-Sep   & 2016     & 5       \\\\\n",
       "\t AR       &  2833849 &  2643928 &  2915918 &  54      & 179      &  2       &  145.11  &  282.61  &  723.28  & ...      & 1050483  &  738691  & 103945   &  2718    &  1858903 &  1150709 & 15-Jan   & 15-Dec   & 2016     & 5       \\\\\n",
       "\t AS       &    60863 &    60324 &    60863 &   1      &   1      &  0       &    1.00  &    7.00  &    3.00  & ...      &    6846  &    6684  &     12   &    20    &     7118 &     2420 & 14-Oct   & 15-Sep   & 2016     & 9       \\\\\n",
       "\t AZ       & 10652448 &  6758251 &  6758251 &  85      & 136      & 11       &  473.98  &  560.61  & 1492.25  & ...      & 1526227  & 1064657  & 100069   &  7630    &  7150328 &  5340816 & 14-Jul   & 15-Jun   & 2016     & 6       \\\\\n",
       "\t CA       & 38697702 & 38697702 & 38714725 & 166      & 949      & 51       & 3080.26  & 3268.83  & 8510.39  & ...      & 9428715  & 7051832  & 553731   & 22251    & 32275277 & 15496024 & 14-Jul   & 15-Jun   & 2016     & 8       \\\\\n",
       "\\end{tabular}\n"
      ],
      "text/markdown": [
       "\n",
       "STATE | SERVICE.AREA.POPULATION | UNDUPLICATED.POPULATION | STATE.POPULATION | CENTRAL.LIBRARIES | BRANCH.LIBRARIES | BOOKMOBILES | MLS.LIBRARIAN.STAFF | LIBRARIAN.STAFF | OTHER.STAFF | ... | PROGRAM.AUDIENCE | KIDS.PROGRAM.AUDIENCE | YA.PROGRAM.AUDIENCE | COMPUTERS | COMPUTER.USES | WIFI.SESSIONS | START.DATE | END.DATE | YEAR | BEA.REGION | \n",
       "|---|---|---|---|---|---|\n",
       "| AK       |   654479 |   647583 |   737625 |  86      |  16      |  1       |   58.86  |  118.31  |  193.09  | ...      |  254172  |  177102  |  21401   |  1069    |   749206 |   730747 | 14-Jan   | 15-Jun   | 2016     | 8        | \n",
       "| AL       |  4833722 |  4833722 |  4833722 | 222      |  74      | 16       |  328.08  |  730.76  |  988.72  | ...      | 1121601  |  723637  |  93665   |  5556    |  4277108 |  3703127 | 14-Oct   | 15-Sep   | 2016     | 5        | \n",
       "| AR       |  2833849 |  2643928 |  2915918 |  54      | 179      |  2       |  145.11  |  282.61  |  723.28  | ...      | 1050483  |  738691  | 103945   |  2718    |  1858903 |  1150709 | 15-Jan   | 15-Dec   | 2016     | 5        | \n",
       "| AS       |    60863 |    60324 |    60863 |   1      |   1      |  0       |    1.00  |    7.00  |    3.00  | ...      |    6846  |    6684  |     12   |    20    |     7118 |     2420 | 14-Oct   | 15-Sep   | 2016     | 9        | \n",
       "| AZ       | 10652448 |  6758251 |  6758251 |  85      | 136      | 11       |  473.98  |  560.61  | 1492.25  | ...      | 1526227  | 1064657  | 100069   |  7630    |  7150328 |  5340816 | 14-Jul   | 15-Jun   | 2016     | 6        | \n",
       "| CA       | 38697702 | 38697702 | 38714725 | 166      | 949      | 51       | 3080.26  | 3268.83  | 8510.39  | ...      | 9428715  | 7051832  | 553731   | 22251    | 32275277 | 15496024 | 14-Jul   | 15-Jun   | 2016     | 8        | \n",
       "\n",
       "\n"
      ],
      "text/plain": [
       "  STATE SERVICE.AREA.POPULATION UNDUPLICATED.POPULATION STATE.POPULATION\n",
       "1 AK      654479                  647583                  737625        \n",
       "2 AL     4833722                 4833722                 4833722        \n",
       "3 AR     2833849                 2643928                 2915918        \n",
       "4 AS       60863                   60324                   60863        \n",
       "5 AZ    10652448                 6758251                 6758251        \n",
       "6 CA    38697702                38697702                38714725        \n",
       "  CENTRAL.LIBRARIES BRANCH.LIBRARIES BOOKMOBILES MLS.LIBRARIAN.STAFF\n",
       "1  86                16               1            58.86            \n",
       "2 222                74              16           328.08            \n",
       "3  54               179               2           145.11            \n",
       "4   1                 1               0             1.00            \n",
       "5  85               136              11           473.98            \n",
       "6 166               949              51          3080.26            \n",
       "  LIBRARIAN.STAFF OTHER.STAFF ... PROGRAM.AUDIENCE KIDS.PROGRAM.AUDIENCE\n",
       "1  118.31          193.09     ...  254172           177102              \n",
       "2  730.76          988.72     ... 1121601           723637              \n",
       "3  282.61          723.28     ... 1050483           738691              \n",
       "4    7.00            3.00     ...    6846             6684              \n",
       "5  560.61         1492.25     ... 1526227          1064657              \n",
       "6 3268.83         8510.39     ... 9428715          7051832              \n",
       "  YA.PROGRAM.AUDIENCE COMPUTERS COMPUTER.USES WIFI.SESSIONS START.DATE END.DATE\n",
       "1  21401               1069       749206        730747      14-Jan     15-Jun  \n",
       "2  93665               5556      4277108       3703127      14-Oct     15-Sep  \n",
       "3 103945               2718      1858903       1150709      15-Jan     15-Dec  \n",
       "4     12                 20         7118          2420      14-Oct     15-Sep  \n",
       "5 100069               7630      7150328       5340816      14-Jul     15-Jun  \n",
       "6 553731              22251     32275277      15496024      14-Jul     15-Jun  \n",
       "  YEAR BEA.REGION\n",
       "1 2016 8         \n",
       "2 2016 5         \n",
       "3 2016 5         \n",
       "4 2016 9         \n",
       "5 2016 6         \n",
       "6 2016 8         "
      ]
     },
     "metadata": {},
     "output_type": "display_data"
    },
    {
     "data": {
      "text/html": [
       "<table>\n",
       "<thead><tr><th></th><th scope=col>STATE</th><th scope=col>SERVICE.AREA.POPULATION</th><th scope=col>UNDUPLICATED.POPULATION</th><th scope=col>STATE.POPULATION</th><th scope=col>CENTRAL.LIBRARIES</th><th scope=col>BRANCH.LIBRARIES</th><th scope=col>BOOKMOBILES</th><th scope=col>MLS.LIBRARIAN.STAFF</th><th scope=col>LIBRARIAN.STAFF</th><th scope=col>OTHER.STAFF</th><th scope=col>...</th><th scope=col>PROGRAM.AUDIENCE</th><th scope=col>KIDS.PROGRAM.AUDIENCE</th><th scope=col>YA.PROGRAM.AUDIENCE</th><th scope=col>COMPUTERS</th><th scope=col>COMPUTER.USES</th><th scope=col>WIFI.SESSIONS</th><th scope=col>START.DATE</th><th scope=col>END.DATE</th><th scope=col>YEAR</th><th scope=col>BEA.REGION</th></tr></thead>\n",
       "<tbody>\n",
       "\t<tr><th scope=row>48</th><td>VA      </td><td>8164556 </td><td>8164556 </td><td>8382993 </td><td> 83     </td><td>274     </td><td>22      </td><td>897.74  </td><td> 996.93 </td><td>2747.43 </td><td>...     </td><td>2562861 </td><td>1727384 </td><td>139964  </td><td>7084    </td><td>6963547 </td><td> 7398797</td><td>14-Jul  </td><td>15-Jun  </td><td>2016    </td><td>5       </td></tr>\n",
       "\t<tr><th scope=row>49</th><td>VT      </td><td> 686918 </td><td> 605296 </td><td> 626630 </td><td>183     </td><td>  3     </td><td> 4      </td><td> 67.21  </td><td> 217.73 </td><td> 137.92 </td><td>...     </td><td> 399967 </td><td> 269004 </td><td> 18650  </td><td>1110    </td><td> 630669 </td><td>  614020</td><td>14-Jan  </td><td>15-Dec  </td><td>2016    </td><td>1       </td></tr>\n",
       "\t<tr><th scope=row>50</th><td>WA      </td><td>6955368 </td><td>6955368 </td><td>7061410 </td><td> 54     </td><td>291     </td><td>26      </td><td>798.19  </td><td> 838.51 </td><td>3044.60 </td><td>...     </td><td>2327178 </td><td>1677860 </td><td>213366  </td><td>6374    </td><td>8951109 </td><td>13992213</td><td>15-Jan  </td><td>15-Dec  </td><td>2016    </td><td>8       </td></tr>\n",
       "\t<tr><th scope=row>51</th><td>WI      </td><td>5749006 </td><td>5749006 </td><td>5753324 </td><td>378     </td><td> 82     </td><td> 5      </td><td>711.86  </td><td>1148.11 </td><td>1903.64 </td><td>...     </td><td>2355286 </td><td>1769739 </td><td>131941  </td><td>6327    </td><td>5467325 </td><td> 4068806</td><td>15-Jan  </td><td>15-Dec  </td><td>2016    </td><td>3       </td></tr>\n",
       "\t<tr><th scope=row>52</th><td>WV      </td><td>1852994 </td><td>1852994 </td><td>1852994 </td><td> 97     </td><td> 76     </td><td> 8      </td><td> 95.08  </td><td> 366.49 </td><td> 296.53 </td><td>...     </td><td> 456933 </td><td> 339141 </td><td> 35151  </td><td>1469    </td><td>1009608 </td><td>  110036</td><td>14-Jul  </td><td>15-Jun  </td><td>2016    </td><td>5       </td></tr>\n",
       "\t<tr><th scope=row>53</th><td>WY      </td><td> 584153 </td><td> 584153 </td><td> 584153 </td><td> 23     </td><td> 52     </td><td> 2      </td><td> 61.66  </td><td> 172.34 </td><td> 284.14 </td><td>...     </td><td> 403130 </td><td> 307797 </td><td> 34067  </td><td> 881    </td><td> 851981 </td><td>  172514</td><td>14-Jul  </td><td>15-Jun  </td><td>2016    </td><td>7       </td></tr>\n",
       "</tbody>\n",
       "</table>\n"
      ],
      "text/latex": [
       "\\begin{tabular}{r|lllllllllllllllllllllllllllllllllllllllllllllllllllllllllllllll}\n",
       "  & STATE & SERVICE.AREA.POPULATION & UNDUPLICATED.POPULATION & STATE.POPULATION & CENTRAL.LIBRARIES & BRANCH.LIBRARIES & BOOKMOBILES & MLS.LIBRARIAN.STAFF & LIBRARIAN.STAFF & OTHER.STAFF & ... & PROGRAM.AUDIENCE & KIDS.PROGRAM.AUDIENCE & YA.PROGRAM.AUDIENCE & COMPUTERS & COMPUTER.USES & WIFI.SESSIONS & START.DATE & END.DATE & YEAR & BEA.REGION\\\\\n",
       "\\hline\n",
       "\t48 & VA       & 8164556  & 8164556  & 8382993  &  83      & 274      & 22       & 897.74   &  996.93  & 2747.43  & ...      & 2562861  & 1727384  & 139964   & 7084     & 6963547  &  7398797 & 14-Jul   & 15-Jun   & 2016     & 5       \\\\\n",
       "\t49 & VT       &  686918  &  605296  &  626630  & 183      &   3      &  4       &  67.21   &  217.73  &  137.92  & ...      &  399967  &  269004  &  18650   & 1110     &  630669  &   614020 & 14-Jan   & 15-Dec   & 2016     & 1       \\\\\n",
       "\t50 & WA       & 6955368  & 6955368  & 7061410  &  54      & 291      & 26       & 798.19   &  838.51  & 3044.60  & ...      & 2327178  & 1677860  & 213366   & 6374     & 8951109  & 13992213 & 15-Jan   & 15-Dec   & 2016     & 8       \\\\\n",
       "\t51 & WI       & 5749006  & 5749006  & 5753324  & 378      &  82      &  5       & 711.86   & 1148.11  & 1903.64  & ...      & 2355286  & 1769739  & 131941   & 6327     & 5467325  &  4068806 & 15-Jan   & 15-Dec   & 2016     & 3       \\\\\n",
       "\t52 & WV       & 1852994  & 1852994  & 1852994  &  97      &  76      &  8       &  95.08   &  366.49  &  296.53  & ...      &  456933  &  339141  &  35151   & 1469     & 1009608  &   110036 & 14-Jul   & 15-Jun   & 2016     & 5       \\\\\n",
       "\t53 & WY       &  584153  &  584153  &  584153  &  23      &  52      &  2       &  61.66   &  172.34  &  284.14  & ...      &  403130  &  307797  &  34067   &  881     &  851981  &   172514 & 14-Jul   & 15-Jun   & 2016     & 7       \\\\\n",
       "\\end{tabular}\n"
      ],
      "text/markdown": [
       "\n",
       "| <!--/--> | STATE | SERVICE.AREA.POPULATION | UNDUPLICATED.POPULATION | STATE.POPULATION | CENTRAL.LIBRARIES | BRANCH.LIBRARIES | BOOKMOBILES | MLS.LIBRARIAN.STAFF | LIBRARIAN.STAFF | OTHER.STAFF | ... | PROGRAM.AUDIENCE | KIDS.PROGRAM.AUDIENCE | YA.PROGRAM.AUDIENCE | COMPUTERS | COMPUTER.USES | WIFI.SESSIONS | START.DATE | END.DATE | YEAR | BEA.REGION | \n",
       "|---|---|---|---|---|---|\n",
       "| 48 | VA       | 8164556  | 8164556  | 8382993  |  83      | 274      | 22       | 897.74   |  996.93  | 2747.43  | ...      | 2562861  | 1727384  | 139964   | 7084     | 6963547  |  7398797 | 14-Jul   | 15-Jun   | 2016     | 5        | \n",
       "| 49 | VT       |  686918  |  605296  |  626630  | 183      |   3      |  4       |  67.21   |  217.73  |  137.92  | ...      |  399967  |  269004  |  18650   | 1110     |  630669  |   614020 | 14-Jan   | 15-Dec   | 2016     | 1        | \n",
       "| 50 | WA       | 6955368  | 6955368  | 7061410  |  54      | 291      | 26       | 798.19   |  838.51  | 3044.60  | ...      | 2327178  | 1677860  | 213366   | 6374     | 8951109  | 13992213 | 15-Jan   | 15-Dec   | 2016     | 8        | \n",
       "| 51 | WI       | 5749006  | 5749006  | 5753324  | 378      |  82      |  5       | 711.86   | 1148.11  | 1903.64  | ...      | 2355286  | 1769739  | 131941   | 6327     | 5467325  |  4068806 | 15-Jan   | 15-Dec   | 2016     | 3        | \n",
       "| 52 | WV       | 1852994  | 1852994  | 1852994  |  97      |  76      |  8       |  95.08   |  366.49  |  296.53  | ...      |  456933  |  339141  |  35151   | 1469     | 1009608  |   110036 | 14-Jul   | 15-Jun   | 2016     | 5        | \n",
       "| 53 | WY       |  584153  |  584153  |  584153  |  23      |  52      |  2       |  61.66   |  172.34  |  284.14  | ...      |  403130  |  307797  |  34067   |  881     |  851981  |   172514 | 14-Jul   | 15-Jun   | 2016     | 7        | \n",
       "\n",
       "\n"
      ],
      "text/plain": [
       "   STATE SERVICE.AREA.POPULATION UNDUPLICATED.POPULATION STATE.POPULATION\n",
       "48 VA    8164556                 8164556                 8382993         \n",
       "49 VT     686918                  605296                  626630         \n",
       "50 WA    6955368                 6955368                 7061410         \n",
       "51 WI    5749006                 5749006                 5753324         \n",
       "52 WV    1852994                 1852994                 1852994         \n",
       "53 WY     584153                  584153                  584153         \n",
       "   CENTRAL.LIBRARIES BRANCH.LIBRARIES BOOKMOBILES MLS.LIBRARIAN.STAFF\n",
       "48  83               274              22          897.74             \n",
       "49 183                 3               4           67.21             \n",
       "50  54               291              26          798.19             \n",
       "51 378                82               5          711.86             \n",
       "52  97                76               8           95.08             \n",
       "53  23                52               2           61.66             \n",
       "   LIBRARIAN.STAFF OTHER.STAFF ... PROGRAM.AUDIENCE KIDS.PROGRAM.AUDIENCE\n",
       "48  996.93         2747.43     ... 2562861          1727384              \n",
       "49  217.73          137.92     ...  399967           269004              \n",
       "50  838.51         3044.60     ... 2327178          1677860              \n",
       "51 1148.11         1903.64     ... 2355286          1769739              \n",
       "52  366.49          296.53     ...  456933           339141              \n",
       "53  172.34          284.14     ...  403130           307797              \n",
       "   YA.PROGRAM.AUDIENCE COMPUTERS COMPUTER.USES WIFI.SESSIONS START.DATE\n",
       "48 139964              7084      6963547        7398797      14-Jul    \n",
       "49  18650              1110       630669         614020      14-Jan    \n",
       "50 213366              6374      8951109       13992213      15-Jan    \n",
       "51 131941              6327      5467325        4068806      15-Jan    \n",
       "52  35151              1469      1009608         110036      14-Jul    \n",
       "53  34067               881       851981         172514      14-Jul    \n",
       "   END.DATE YEAR BEA.REGION\n",
       "48 15-Jun   2016 5         \n",
       "49 15-Dec   2016 1         \n",
       "50 15-Dec   2016 8         \n",
       "51 15-Dec   2016 3         \n",
       "52 15-Jun   2016 5         \n",
       "53 15-Jun   2016 7         "
      ]
     },
     "metadata": {},
     "output_type": "display_data"
    }
   ],
   "source": [
    "head(recent)\n",
    "tail(recent)"
   ]
  },
  {
   "cell_type": "code",
   "execution_count": 11,
   "metadata": {},
   "outputs": [
    {
     "name": "stderr",
     "output_type": "stream",
     "text": [
      "Using STATE, LOCAL.REVENUE, STATE.REVENUE, FEDERAL.REVENUE, OTHER.REVENUE, TOTAL.REVENUE, SALARIES, BENEFITS, TOTAL.STAFF.EXPENDITURES, PRINT.EXPENDITURES, ELECTRONIC.EXPENDITURES, OTHER.COLLECTION.EXPENDITURES, TOTAL.COLLECTION.EXPENDITURES, OTHER.EXPENDITURES, TOTAL.EXPENDITURES, LOCAL.CAPITAL.REVENUE, STATE.CAPITAL.REVENUE, FEDERAL.CAPITAL.REVENUE, OTHER.CAPITAL.REVENUE, TOTAL.CAPITAL.REVENUE, CAPITAL.EXPENDITURES, START.DATE, END.DATE as id variables\n"
     ]
    },
    {
     "data": {
      "text/html": [
       "<table>\n",
       "<thead><tr><th scope=col>STATE</th><th scope=col>LOCAL.REVENUE</th><th scope=col>STATE.REVENUE</th><th scope=col>FEDERAL.REVENUE</th><th scope=col>OTHER.REVENUE</th><th scope=col>TOTAL.REVENUE</th><th scope=col>SALARIES</th><th scope=col>BENEFITS</th><th scope=col>TOTAL.STAFF.EXPENDITURES</th><th scope=col>PRINT.EXPENDITURES</th><th scope=col>...</th><th scope=col>LOCAL.CAPITAL.REVENUE</th><th scope=col>STATE.CAPITAL.REVENUE</th><th scope=col>FEDERAL.CAPITAL.REVENUE</th><th scope=col>OTHER.CAPITAL.REVENUE</th><th scope=col>TOTAL.CAPITAL.REVENUE</th><th scope=col>CAPITAL.EXPENDITURES</th><th scope=col>START.DATE</th><th scope=col>END.DATE</th><th scope=col>variable</th><th scope=col>value</th></tr></thead>\n",
       "<tbody>\n",
       "\t<tr><td>AK                     </td><td>$32645536.00           </td><td>$1096129.00            </td><td>$954653.00             </td><td>$1288407.00            </td><td>$35984725.00           </td><td>$14326886.00           </td><td>$9750253.00            </td><td>$24077139.00           </td><td>$1857977.00            </td><td>...                    </td><td>$560252.00             </td><td>$5631270.00            </td><td>$2375937.00            </td><td>$683610.00             </td><td>$9251069.00            </td><td>$29314961.00           </td><td>14-Jan                 </td><td>15-Jun                 </td><td>SERVICE.AREA.POPULATION</td><td>  654479               </td></tr>\n",
       "\t<tr><td>AL                     </td><td>$89633662.00           </td><td>$3832508.00            </td><td>$955225.00             </td><td>$10057802.00           </td><td>$104479197.00          </td><td>$55101208.00           </td><td>$14819063.00           </td><td>$69920271.00           </td><td>$6225330.00            </td><td>...                    </td><td>$6152118.00            </td><td>$0.00                  </td><td>$432168.00             </td><td>$139973.00             </td><td>$6724259.00            </td><td>$2526421.00            </td><td>14-Oct                 </td><td>15-Sep                 </td><td>SERVICE.AREA.POPULATION</td><td> 4833722               </td></tr>\n",
       "\t<tr><td>AR                     </td><td>$65801870.00           </td><td>$5207194.00            </td><td>$1560.00               </td><td>$3989079.00            </td><td>$74999703.00           </td><td>$34300378.00           </td><td>$10656365.00           </td><td>$44956743.00           </td><td>$5390795.00            </td><td>...                    </td><td>$7575103.00            </td><td>$258941.00             </td><td>$33000.00              </td><td>$307262.00             </td><td>$8174306.00            </td><td>$6495203.00            </td><td>15-Jan                 </td><td>15-Dec                 </td><td>SERVICE.AREA.POPULATION</td><td> 2833849               </td></tr>\n",
       "\t<tr><td>AS                     </td><td>$0.00                  </td><td>$314583.00             </td><td>$136365.00             </td><td>$15577.00              </td><td>$466525.00             </td><td>$210333.00             </td><td>$20909.00              </td><td>$231242.00             </td><td>$17224.00              </td><td>...                    </td><td>$0.00                  </td><td>$0.00                  </td><td>$0.00                  </td><td>$0.00                  </td><td>$0.00                  </td><td>$0.00                  </td><td>14-Oct                 </td><td>15-Sep                 </td><td>SERVICE.AREA.POPULATION</td><td>   60863               </td></tr>\n",
       "\t<tr><td>AZ                     </td><td>$168773387.00          </td><td>$1673773.00            </td><td>$1972972.00            </td><td>$7566565.00            </td><td>$179986697.00          </td><td>$77714692.00           </td><td>$28918074.00           </td><td>$106632766.00          </td><td>$15183607.00           </td><td>...                    </td><td>$7388945.00            </td><td>$0.00                  </td><td>$199905.00             </td><td>$151400.00             </td><td>$7740250.00            </td><td>$6491489.00            </td><td>14-Jul                 </td><td>15-Jun                 </td><td>SERVICE.AREA.POPULATION</td><td>10652448               </td></tr>\n",
       "\t<tr><td>CA                     </td><td>$1332476430.00         </td><td>$12946522.00           </td><td>$4947740.00            </td><td>$67063059.00           </td><td>$1417433751.00         </td><td>$579004338.00          </td><td>$294834779.00          </td><td>$873839117.00          </td><td>$72737141.00           </td><td>...                    </td><td>$69958065.00           </td><td>$3094289.00            </td><td>$361799.00             </td><td>$7376383.00            </td><td>$80790536.00           </td><td>$113838920.00          </td><td>14-Jul                 </td><td>15-Jun                 </td><td>SERVICE.AREA.POPULATION</td><td>38697702               </td></tr>\n",
       "</tbody>\n",
       "</table>\n"
      ],
      "text/latex": [
       "\\begin{tabular}{r|lllllllllllllllllllllllll}\n",
       " STATE & LOCAL.REVENUE & STATE.REVENUE & FEDERAL.REVENUE & OTHER.REVENUE & TOTAL.REVENUE & SALARIES & BENEFITS & TOTAL.STAFF.EXPENDITURES & PRINT.EXPENDITURES & ... & LOCAL.CAPITAL.REVENUE & STATE.CAPITAL.REVENUE & FEDERAL.CAPITAL.REVENUE & OTHER.CAPITAL.REVENUE & TOTAL.CAPITAL.REVENUE & CAPITAL.EXPENDITURES & START.DATE & END.DATE & variable & value\\\\\n",
       "\\hline\n",
       "\t AK                      & \\$32645536.00          & \\$1096129.00           & \\$954653.00            & \\$1288407.00           & \\$35984725.00          & \\$14326886.00          & \\$9750253.00           & \\$24077139.00          & \\$1857977.00           & ...                     & \\$560252.00            & \\$5631270.00           & \\$2375937.00           & \\$683610.00            & \\$9251069.00           & \\$29314961.00          & 14-Jan                  & 15-Jun                  & SERVICE.AREA.POPULATION &   654479               \\\\\n",
       "\t AL                      & \\$89633662.00          & \\$3832508.00           & \\$955225.00            & \\$10057802.00          & \\$104479197.00         & \\$55101208.00          & \\$14819063.00          & \\$69920271.00          & \\$6225330.00           & ...                     & \\$6152118.00           & \\$0.00                 & \\$432168.00            & \\$139973.00            & \\$6724259.00           & \\$2526421.00           & 14-Oct                  & 15-Sep                  & SERVICE.AREA.POPULATION &  4833722               \\\\\n",
       "\t AR                      & \\$65801870.00          & \\$5207194.00           & \\$1560.00              & \\$3989079.00           & \\$74999703.00          & \\$34300378.00          & \\$10656365.00          & \\$44956743.00          & \\$5390795.00           & ...                     & \\$7575103.00           & \\$258941.00            & \\$33000.00             & \\$307262.00            & \\$8174306.00           & \\$6495203.00           & 15-Jan                  & 15-Dec                  & SERVICE.AREA.POPULATION &  2833849               \\\\\n",
       "\t AS                      & \\$0.00                 & \\$314583.00            & \\$136365.00            & \\$15577.00             & \\$466525.00            & \\$210333.00            & \\$20909.00             & \\$231242.00            & \\$17224.00             & ...                     & \\$0.00                 & \\$0.00                 & \\$0.00                 & \\$0.00                 & \\$0.00                 & \\$0.00                 & 14-Oct                  & 15-Sep                  & SERVICE.AREA.POPULATION &    60863               \\\\\n",
       "\t AZ                      & \\$168773387.00         & \\$1673773.00           & \\$1972972.00           & \\$7566565.00           & \\$179986697.00         & \\$77714692.00          & \\$28918074.00          & \\$106632766.00         & \\$15183607.00          & ...                     & \\$7388945.00           & \\$0.00                 & \\$199905.00            & \\$151400.00            & \\$7740250.00           & \\$6491489.00           & 14-Jul                  & 15-Jun                  & SERVICE.AREA.POPULATION & 10652448               \\\\\n",
       "\t CA                      & \\$1332476430.00        & \\$12946522.00          & \\$4947740.00           & \\$67063059.00          & \\$1417433751.00        & \\$579004338.00         & \\$294834779.00         & \\$873839117.00         & \\$72737141.00          & ...                     & \\$69958065.00          & \\$3094289.00           & \\$361799.00            & \\$7376383.00           & \\$80790536.00          & \\$113838920.00         & 14-Jul                  & 15-Jun                  & SERVICE.AREA.POPULATION & 38697702               \\\\\n",
       "\\end{tabular}\n"
      ],
      "text/markdown": [
       "\n",
       "STATE | LOCAL.REVENUE | STATE.REVENUE | FEDERAL.REVENUE | OTHER.REVENUE | TOTAL.REVENUE | SALARIES | BENEFITS | TOTAL.STAFF.EXPENDITURES | PRINT.EXPENDITURES | ... | LOCAL.CAPITAL.REVENUE | STATE.CAPITAL.REVENUE | FEDERAL.CAPITAL.REVENUE | OTHER.CAPITAL.REVENUE | TOTAL.CAPITAL.REVENUE | CAPITAL.EXPENDITURES | START.DATE | END.DATE | variable | value | \n",
       "|---|---|---|---|---|---|\n",
       "| AK                      | $32645536.00            | $1096129.00             | $954653.00              | $1288407.00             | $35984725.00            | $14326886.00            | $9750253.00             | $24077139.00            | $1857977.00             | ...                     | $560252.00              | $5631270.00             | $2375937.00             | $683610.00              | $9251069.00             | $29314961.00            | 14-Jan                  | 15-Jun                  | SERVICE.AREA.POPULATION |   654479                | \n",
       "| AL                      | $89633662.00            | $3832508.00             | $955225.00              | $10057802.00            | $104479197.00           | $55101208.00            | $14819063.00            | $69920271.00            | $6225330.00             | ...                     | $6152118.00             | $0.00                   | $432168.00              | $139973.00              | $6724259.00             | $2526421.00             | 14-Oct                  | 15-Sep                  | SERVICE.AREA.POPULATION |  4833722                | \n",
       "| AR                      | $65801870.00            | $5207194.00             | $1560.00                | $3989079.00             | $74999703.00            | $34300378.00            | $10656365.00            | $44956743.00            | $5390795.00             | ...                     | $7575103.00             | $258941.00              | $33000.00               | $307262.00              | $8174306.00             | $6495203.00             | 15-Jan                  | 15-Dec                  | SERVICE.AREA.POPULATION |  2833849                | \n",
       "| AS                      | $0.00                   | $314583.00              | $136365.00              | $15577.00               | $466525.00              | $210333.00              | $20909.00               | $231242.00              | $17224.00               | ...                     | $0.00                   | $0.00                   | $0.00                   | $0.00                   | $0.00                   | $0.00                   | 14-Oct                  | 15-Sep                  | SERVICE.AREA.POPULATION |    60863                | \n",
       "| AZ                      | $168773387.00           | $1673773.00             | $1972972.00             | $7566565.00             | $179986697.00           | $77714692.00            | $28918074.00            | $106632766.00           | $15183607.00            | ...                     | $7388945.00             | $0.00                   | $199905.00              | $151400.00              | $7740250.00             | $6491489.00             | 14-Jul                  | 15-Jun                  | SERVICE.AREA.POPULATION | 10652448                | \n",
       "| CA                      | $1332476430.00          | $12946522.00            | $4947740.00             | $67063059.00            | $1417433751.00          | $579004338.00           | $294834779.00           | $873839117.00           | $72737141.00            | ...                     | $69958065.00            | $3094289.00             | $361799.00              | $7376383.00             | $80790536.00            | $113838920.00           | 14-Jul                  | 15-Jun                  | SERVICE.AREA.POPULATION | 38697702                | \n",
       "\n",
       "\n"
      ],
      "text/plain": [
       "  STATE LOCAL.REVENUE  STATE.REVENUE FEDERAL.REVENUE OTHER.REVENUE\n",
       "1 AK    $32645536.00   $1096129.00   $954653.00      $1288407.00  \n",
       "2 AL    $89633662.00   $3832508.00   $955225.00      $10057802.00 \n",
       "3 AR    $65801870.00   $5207194.00   $1560.00        $3989079.00  \n",
       "4 AS    $0.00          $314583.00    $136365.00      $15577.00    \n",
       "5 AZ    $168773387.00  $1673773.00   $1972972.00     $7566565.00  \n",
       "6 CA    $1332476430.00 $12946522.00  $4947740.00     $67063059.00 \n",
       "  TOTAL.REVENUE  SALARIES      BENEFITS      TOTAL.STAFF.EXPENDITURES\n",
       "1 $35984725.00   $14326886.00  $9750253.00   $24077139.00            \n",
       "2 $104479197.00  $55101208.00  $14819063.00  $69920271.00            \n",
       "3 $74999703.00   $34300378.00  $10656365.00  $44956743.00            \n",
       "4 $466525.00     $210333.00    $20909.00     $231242.00              \n",
       "5 $179986697.00  $77714692.00  $28918074.00  $106632766.00           \n",
       "6 $1417433751.00 $579004338.00 $294834779.00 $873839117.00           \n",
       "  PRINT.EXPENDITURES ... LOCAL.CAPITAL.REVENUE STATE.CAPITAL.REVENUE\n",
       "1 $1857977.00        ... $560252.00            $5631270.00          \n",
       "2 $6225330.00        ... $6152118.00           $0.00                \n",
       "3 $5390795.00        ... $7575103.00           $258941.00           \n",
       "4 $17224.00          ... $0.00                 $0.00                \n",
       "5 $15183607.00       ... $7388945.00           $0.00                \n",
       "6 $72737141.00       ... $69958065.00          $3094289.00          \n",
       "  FEDERAL.CAPITAL.REVENUE OTHER.CAPITAL.REVENUE TOTAL.CAPITAL.REVENUE\n",
       "1 $2375937.00             $683610.00            $9251069.00          \n",
       "2 $432168.00              $139973.00            $6724259.00          \n",
       "3 $33000.00               $307262.00            $8174306.00          \n",
       "4 $0.00                   $0.00                 $0.00                \n",
       "5 $199905.00              $151400.00            $7740250.00          \n",
       "6 $361799.00              $7376383.00           $80790536.00         \n",
       "  CAPITAL.EXPENDITURES START.DATE END.DATE variable                value   \n",
       "1 $29314961.00         14-Jan     15-Jun   SERVICE.AREA.POPULATION   654479\n",
       "2 $2526421.00          14-Oct     15-Sep   SERVICE.AREA.POPULATION  4833722\n",
       "3 $6495203.00          15-Jan     15-Dec   SERVICE.AREA.POPULATION  2833849\n",
       "4 $0.00                14-Oct     15-Sep   SERVICE.AREA.POPULATION    60863\n",
       "5 $6491489.00          14-Jul     15-Jun   SERVICE.AREA.POPULATION 10652448\n",
       "6 $113838920.00        14-Jul     15-Jun   SERVICE.AREA.POPULATION 38697702"
      ]
     },
     "metadata": {},
     "output_type": "display_data"
    }
   ],
   "source": [
    "longrecent = melt(recent)\n",
    "head(longrecent)"
   ]
  },
  {
   "cell_type": "markdown",
   "metadata": {},
   "source": [
    "For the first one, I want to do number of visits and users in each state with the State 2015 dataset. Then I think I want to do"
   ]
  },
  {
   "cell_type": "code",
   "execution_count": 12,
   "metadata": {},
   "outputs": [
    {
     "ename": "ERROR",
     "evalue": "Error in group_by(STATE): object 'STATE' not found\n",
     "output_type": "error",
     "traceback": [
      "Error in group_by(STATE): object 'STATE' not found\nTraceback:\n",
      "1. group_by(STATE) %>% summarize(total = sum(VISITS))",
      "2. eval(lhs, parent, parent)",
      "3. eval(lhs, parent, parent)",
      "4. group_by(STATE)"
     ]
    }
   ],
   "source": [
    "totals = recent %>%\n",
    "select(\"STATE\", \"VISITS\", \"SERVICE.AREA.POPULATION\", \"USERS\")\n",
    "group_by(STATE) %>%\n",
    "summarize(total = sum(VISITS))\n",
    "\n",
    "head(totals)"
   ]
  },
  {
   "cell_type": "code",
   "execution_count": 5,
   "metadata": {},
   "outputs": [
    {
     "name": "stderr",
     "output_type": "stream",
     "text": [
      "ERROR while rich displaying an object: Error in FUN(X[[i]], ...): object 'total' not found\n",
      "\n",
      "Traceback:\n",
      "1. FUN(X[[i]], ...)\n",
      "2. tryCatch(withCallingHandlers({\n",
      " .     rpr <- mime2repr[[mime]](obj)\n",
      " .     if (is.null(rpr)) \n",
      " .         return(NULL)\n",
      " .     prepare_content(is.raw(rpr), rpr)\n",
      " . }, error = error_handler), error = outer_handler)\n",
      "3. tryCatchList(expr, classes, parentenv, handlers)\n",
      "4. tryCatchOne(expr, names, parentenv, handlers[[1L]])\n",
      "5. doTryCatch(return(expr), name, parentenv, handler)\n",
      "6. withCallingHandlers({\n",
      " .     rpr <- mime2repr[[mime]](obj)\n",
      " .     if (is.null(rpr)) \n",
      " .         return(NULL)\n",
      " .     prepare_content(is.raw(rpr), rpr)\n",
      " . }, error = error_handler)\n",
      "7. mime2repr[[mime]](obj)\n",
      "8. repr_text.default(obj)\n",
      "9. paste(capture.output(print(obj)), collapse = \"\\n\")\n",
      "10. capture.output(print(obj))\n",
      "11. evalVis(expr)\n",
      "12. withVisible(eval(expr, pf))\n",
      "13. eval(expr, pf)\n",
      "14. eval(expr, pf)\n",
      "15. print(obj)\n",
      "16. print.ggplot(obj)\n",
      "17. ggplot_build(x)\n",
      "18. ggplot_build.ggplot(x)\n",
      "19. by_layer(function(l, d) l$compute_aesthetics(d, plot))\n",
      "20. f(l = layers[[i]], d = data[[i]])\n",
      "21. l$compute_aesthetics(d, plot)\n",
      "22. f(..., self = self)\n",
      "23. scales_add_defaults(plot$scales, data, aesthetics, plot$plot_env)\n",
      "24. lapply(aesthetics[new_aesthetics], rlang::eval_tidy, data = data)\n",
      "25. FUN(X[[i]], ...)\n"
     ]
    },
    {
     "data": {},
     "metadata": {},
     "output_type": "display_data"
    },
    {
     "data": {
      "image/png": "[encoded data removed]",
      "text/plain": [
       "plot without title"
      ]
     },
     "metadata": {},
     "output_type": "display_data"
    }
   ],
   "source": [
    "ggplot(totals, aes(x = STATE, weight = SERVICE.AREA.POPULATION, fill= total)) + geom_bar()"
   ]
  }
 ],
 "metadata": {
  "kernelspec": {
   "display_name": "R",
   "language": "R",
   "name": "ir"
  },
  "language_info": {
   "codemirror_mode": "r",
   "file_extension": ".r",
   "mimetype": "text/x-r-source",
   "name": "R",
   "pygments_lexer": "r",
   "version": "3.4.3"
  }
 },
 "nbformat": 4,
 "nbformat_minor": 2
}
